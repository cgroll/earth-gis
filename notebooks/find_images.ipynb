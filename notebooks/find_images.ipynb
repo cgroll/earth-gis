{
 "cells": [
  {
   "cell_type": "code",
   "execution_count": null,
   "id": "1472740b-1a06-415d-9a86-1d9d943ea6a3",
   "metadata": {},
   "outputs": [],
   "source": [
    "import geemap\n",
    "import ee\n",
    "import pandas as pd\n",
    "import geemap.colormaps as cm\n",
    "\n",
    "from egis.utils import (\n",
    "    vis_params_dict, extract_single_img\n",
    ")"
   ]
  },
  {
   "cell_type": "code",
   "execution_count": null,
   "id": "c2c97887-e6a0-4772-9c22-596fe8dcddf3",
   "metadata": {},
   "outputs": [],
   "source": [
    "ee.Initialize()"
   ]
  },
  {
   "cell_type": "markdown",
   "id": "70339ca3-5a0d-485e-b4bf-e7d997ad502e",
   "metadata": {},
   "source": [
    "## Interactive usage"
   ]
  },
  {
   "cell_type": "code",
   "execution_count": null,
   "id": "8da05366-523d-486f-9761-61c192d78c8b",
   "metadata": {},
   "outputs": [],
   "source": [
    "# helper function for interactive use\n",
    "def get_coordinates_list(geo_obj):\n",
    "    return geo_obj.getInfo()['coordinates']"
   ]
  },
  {
   "cell_type": "code",
   "execution_count": null,
   "id": "a7a7901b-1b8d-4024-92a7-5feebbae9096",
   "metadata": {},
   "outputs": [],
   "source": [
    "Map = geemap.Map()\n",
    "Map"
   ]
  },
  {
   "cell_type": "code",
   "execution_count": null,
   "id": "777f7e17-c9c6-4be8-b257-999bd342c8a4",
   "metadata": {},
   "outputs": [],
   "source": [
    "get_coordinates_list(Map.user_roi)"
   ]
  },
  {
   "cell_type": "markdown",
   "id": "cc2137ef-955d-48f0-a301-edd339c33089",
   "metadata": {},
   "source": [
    "## Define selection"
   ]
  },
  {
   "cell_type": "code",
   "execution_count": null,
   "id": "f739b0b3-ab66-4200-a450-e75fb2786264",
   "metadata": {},
   "outputs": [],
   "source": [
    "coord_list = [[-101.060366, 37.882811],\n",
    "  [-100.675393, 37.882811],\n",
    "  [-100.675393, 38.034941],\n",
    "  [-101.060366, 38.034941],\n",
    "  [-101.060366, 37.882811]]\n",
    "roi_clip_region = ee.Geometry.Polygon(coord_list)"
   ]
  },
  {
   "cell_type": "code",
   "execution_count": null,
   "id": "d7abb622-ca5a-4c55-a8c3-ad6ed43a2927",
   "metadata": {},
   "outputs": [],
   "source": [
    "center_coords = [-100.897585, 37.973621]\n",
    "center_coords_map = [center_coords[1], center_coords[0]]\n",
    "center_point = ee.Geometry.Point(center_coords)"
   ]
  },
  {
   "cell_type": "code",
   "execution_count": null,
   "id": "3534a2e6-f229-4241-92c0-48b221521066",
   "metadata": {},
   "outputs": [],
   "source": [
    "date_beg = '2022-07-20'\n",
    "date_end = '2022-08-20'"
   ]
  },
  {
   "cell_type": "code",
   "execution_count": null,
   "id": "1480325b-8ce5-49d7-ad80-8398deb62802",
   "metadata": {},
   "outputs": [],
   "source": [
    "dataset_sentinel = ee.ImageCollection('COPERNICUS/S2_SR_HARMONIZED') \\\n",
    "                          .filterDate(date_beg, date_end) \\\n",
    "                          .filterBounds(center_point) \\\n",
    "                          .map(lambda img: img.clip(roi_clip_region))"
   ]
  },
  {
   "cell_type": "markdown",
   "id": "b687336a-0c13-4161-a440-2bf9a05fe3ff",
   "metadata": {},
   "source": [
    "## Inspect metadata of collection"
   ]
  },
  {
   "cell_type": "code",
   "execution_count": null,
   "id": "4692d676-2982-4948-ac87-11e00a94114e",
   "metadata": {},
   "outputs": [],
   "source": [
    "img_dates = geemap.image_dates(dataset_sentinel).getInfo()\n",
    "img_dates"
   ]
  },
  {
   "cell_type": "code",
   "execution_count": null,
   "id": "172a239c-5ea9-4961-ad98-654c3ad2b313",
   "metadata": {},
   "outputs": [],
   "source": [
    "relevant_props = [\"system:id\", \"system:time_start\", 'CLOUDY_PIXEL_OVER_LAND_PERCENTAGE', \n",
    "                  'CLOUDY_PIXEL_PERCENTAGE', 'CLOUD_SHADOW_PERCENTAGE', 'DARK_FEATURES_PERCENTAGE']\n",
    "\n",
    "relevant_props = [\"system:id\", \"system:time_start\"]"
   ]
  },
  {
   "cell_type": "code",
   "execution_count": null,
   "id": "9d24ed60-a1c6-4f13-8664-8a58b156fc30",
   "metadata": {},
   "outputs": [],
   "source": [
    "n_imgs = len(img_dates)\n",
    "\n",
    "img_df_list = []\n",
    "\n",
    "for ii in range(0, n_imgs):\n",
    "    # get image\n",
    "    this_img = extract_single_img(dataset_sentinel, idx=ii)\n",
    "    \n",
    "    # get image properties as dict\n",
    "    this_img_prop_dict = geemap.image_props(this_img).getInfo()\n",
    "    this_dict = {k: this_img_prop_dict[k] for k in relevant_props}\n",
    "    \n",
    "    # transform to DataFrame\n",
    "    this_img_df = pd.DataFrame.from_dict({0: this_dict}, orient='index')\n",
    "    img_df_list.append(this_img_df)\n",
    "    \n",
    "all_img_info_df = pd.concat(img_df_list, axis=0)\n",
    "all_img_info_df = all_img_info_df.set_index(\"system:id\")\n",
    "all_img_info_df"
   ]
  },
  {
   "cell_type": "markdown",
   "id": "3d2dc2e1-7fef-4f31-bdc0-48b81f580982",
   "metadata": {},
   "source": [
    "## Visualize images"
   ]
  },
  {
   "cell_type": "code",
   "execution_count": null,
   "id": "9fce009a-7a51-4673-a18a-9f5bc1ecff13",
   "metadata": {},
   "outputs": [],
   "source": [
    "vis_params = vis_params_dict(bands=['B4','B3','B2'],\n",
    "                                     min=0,\n",
    "                                     max=3000,\n",
    "                                     gamma=1.4)"
   ]
  },
  {
   "cell_type": "code",
   "execution_count": null,
   "id": "14990e4b-e5c1-4f69-b467-dcb20810efd3",
   "metadata": {},
   "outputs": [],
   "source": [
    "# all_img_info_df.index[2]"
   ]
  },
  {
   "cell_type": "code",
   "execution_count": null,
   "id": "5ab91db7-2d07-49a9-ba16-d0d53648d98d",
   "metadata": {},
   "outputs": [],
   "source": [
    "sentinel_map = geemap.Map()\n",
    "\n",
    "for ii in range(0, n_imgs):\n",
    "    # get image\n",
    "    this_img = extract_single_img(dataset_sentinel, idx=ii)\n",
    "    layer_name = f'img_{ii}'\n",
    "    \n",
    "    sentinel_map.addLayer(this_img, vis_params, layer_name)\n",
    "    \n",
    "sentinel_map.centerObject(center_point, 12)\n",
    "sentinel_map"
   ]
  },
  {
   "cell_type": "markdown",
   "id": "a05613d0-6c97-4ec5-93b5-b37558c969e5",
   "metadata": {},
   "source": [
    "## Inspect image counts"
   ]
  },
  {
   "cell_type": "code",
   "execution_count": null,
   "id": "a8efbd05-9269-4e3d-b114-0184d6d51ede",
   "metadata": {},
   "outputs": [],
   "source": [
    "img_count = geemap.image_count(dataset_sentinel)"
   ]
  },
  {
   "cell_type": "code",
   "execution_count": null,
   "id": "81e621f4-f9d6-4c47-b4f1-af18f926d69f",
   "metadata": {},
   "outputs": [],
   "source": [
    "vis_params = {'min': 0, 'max': 5, 'palette': cm.palettes.coolwarm}"
   ]
  },
  {
   "cell_type": "code",
   "execution_count": null,
   "id": "1946ee38-ad71-4d37-aa02-35b0f6492c24",
   "metadata": {},
   "outputs": [],
   "source": [
    "Map = geemap.Map(center=center_coords_map, zoom=8)\n",
    "Map.addLayer(img_count, vis_params)\n",
    "Map"
   ]
  }
 ],
 "metadata": {
  "kernelspec": {
   "display_name": "Python 3 (ipykernel)",
   "language": "python",
   "name": "python3"
  },
  "language_info": {
   "codemirror_mode": {
    "name": "ipython",
    "version": 3
   },
   "file_extension": ".py",
   "mimetype": "text/x-python",
   "name": "python",
   "nbconvert_exporter": "python",
   "pygments_lexer": "ipython3",
   "version": "3.10.6"
  }
 },
 "nbformat": 4,
 "nbformat_minor": 5
}
