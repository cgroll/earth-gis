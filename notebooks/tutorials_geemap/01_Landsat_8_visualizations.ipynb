{
 "cells": [
  {
   "cell_type": "code",
   "execution_count": null,
   "id": "ff048ed3",
   "metadata": {
    "scrolled": true
   },
   "outputs": [],
   "source": [
    "# import geemap\n",
    "import geemap.eefolium as geemap\n",
    "import ee\n",
    "import numpy as np\n",
    "import pandas as pd\n",
    "\n",
    "from egis.utils import (\n",
    "    vis_params_dict, default_vis_params, get_known_roi, extract_single_img, \n",
    "    extract_img_collection_metadata, extract_img_collection_properties,\n",
    "    coords_to_polygon, collection_len\n",
    ")"
   ]
  },
  {
   "cell_type": "code",
   "execution_count": null,
   "id": "3d4a2080",
   "metadata": {
    "scrolled": true
   },
   "outputs": [],
   "source": [
    "ee.Initialize()"
   ]
  },
  {
   "cell_type": "markdown",
   "id": "6b6e2769",
   "metadata": {},
   "source": [
    "Description: understanding Landsat satellite data, frequency of images and ways to visualize without clouds."
   ]
  },
  {
   "cell_type": "markdown",
   "id": "30a93928",
   "metadata": {},
   "source": [
    "## Landsat coverage"
   ]
  },
  {
   "cell_type": "markdown",
   "id": "d7970efb",
   "metadata": {},
   "source": [
    "The satellite is circulating around the globe and taking remote sensing images. Thereby it will take consecutive snapshots from the earth as it progresses. Individual areas will be revisited regularly roughly every 2 weeks."
   ]
  },
  {
   "cell_type": "code",
   "execution_count": null,
   "id": "2fa61c41",
   "metadata": {},
   "outputs": [],
   "source": [
    "roi_coords = get_known_roi('grand_canyon')\n",
    "roi_region_large = coords_to_polygon(get_known_roi('us_west_large'))\n",
    "roi_region_medium = coords_to_polygon(get_known_roi('grand_canyon_rectangle'))"
   ]
  },
  {
   "cell_type": "code",
   "execution_count": null,
   "id": "a50a73d2",
   "metadata": {},
   "outputs": [],
   "source": [
    "vis_params_l8 = default_vis_params('landsat')"
   ]
  },
  {
   "cell_type": "code",
   "execution_count": null,
   "id": "aca3f927",
   "metadata": {},
   "outputs": [],
   "source": [
    "dataset = ee.ImageCollection('LANDSAT/LC08/C01/T1_SR') \\\n",
    "                  .filterDate('2016-10-01', '2016-12-31') \\\n",
    "                  .filterBounds(roi_region_large)"
   ]
  },
  {
   "cell_type": "markdown",
   "id": "c2c6212f",
   "metadata": {},
   "source": [
    "The orbit of the satellite is reflected in the image tiles: vertical image neighbours are aligned more than horizontal neighbours, because there is much less time lag between vertically consecutive images."
   ]
  },
  {
   "cell_type": "code",
   "execution_count": null,
   "id": "dedba61b",
   "metadata": {
    "scrolled": false
   },
   "outputs": [],
   "source": [
    "Map = geemap.Map()\n",
    "Map.setCenter(roi_coords[0], roi_coords[1], 5)\n",
    "Map.addLayer(dataset, vis_params_l8)\n",
    "Map"
   ]
  },
  {
   "cell_type": "markdown",
   "id": "c1e91543",
   "metadata": {},
   "source": [
    "Due to the time lag, horizontal neighbours can have very different weather conditions."
   ]
  },
  {
   "cell_type": "code",
   "execution_count": null,
   "id": "f773b913",
   "metadata": {},
   "outputs": [],
   "source": [
    "Map = geemap.Map()\n",
    "Map.setCenter(roi_coords[0], roi_coords[1], 8)\n",
    "Map.addLayer(dataset, vis_params_l8)\n",
    "Map"
   ]
  },
  {
   "cell_type": "markdown",
   "id": "d2a71a08",
   "metadata": {},
   "source": [
    "## Image metadata"
   ]
  },
  {
   "cell_type": "markdown",
   "id": "3570251c",
   "metadata": {},
   "source": [
    "To get a better feeling about the volume of images produced by Landsat we can pull a collection of images and extract metadata from it."
   ]
  },
  {
   "cell_type": "code",
   "execution_count": null,
   "id": "289ca1bf",
   "metadata": {},
   "outputs": [],
   "source": [
    "dataset = ee.ImageCollection('LANDSAT/LC08/C01/T1_SR') \\\n",
    "                  .filterDate('2016-01-01', '2016-12-31') \\\n",
    "                  .filterBounds(roi_region_medium)"
   ]
  },
  {
   "cell_type": "markdown",
   "id": "20306096",
   "metadata": {},
   "source": [
    "Given those time and spatial filters the collection still has rather many images:"
   ]
  },
  {
   "cell_type": "code",
   "execution_count": null,
   "id": "4e9302c9",
   "metadata": {
    "scrolled": true
   },
   "outputs": [],
   "source": [
    "collection_len(dataset)"
   ]
  },
  {
   "cell_type": "raw",
   "id": "8d69e988",
   "metadata": {},
   "source": [
    "Any single images comes with a lot of metadata attached:"
   ]
  },
  {
   "cell_type": "code",
   "execution_count": null,
   "id": "8741bb8d",
   "metadata": {},
   "outputs": [],
   "source": [
    "this_img = extract_single_img(dataset, 0)\n",
    "this_img_props_dict = geemap.image_props(this_img).getInfo()\n",
    "img_props = pd.DataFrame.from_dict(this_img_props_dict, orient='index')\n",
    "img_props"
   ]
  },
  {
   "cell_type": "code",
   "execution_count": null,
   "id": "c9895c46",
   "metadata": {},
   "outputs": [],
   "source": [
    "img_props.loc['system:band_names'].squeeze()"
   ]
  },
  {
   "cell_type": "markdown",
   "id": "aa626925",
   "metadata": {},
   "source": [
    "We can extract the most important properties for all images:"
   ]
  },
  {
   "cell_type": "code",
   "execution_count": null,
   "id": "0ca9b5c9",
   "metadata": {},
   "outputs": [],
   "source": [
    "list_of_props = ['CLOUD_COVER', 'CLOUD_COVER_LAND', 'WRS_PATH', 'WRS_ROW']\n",
    "all_img_dates = geemap.image_dates(dataset).getInfo()\n",
    "metadata = extract_img_collection_metadata(dataset, list_of_props)\n",
    "metadata['date'] = all_img_dates\n",
    "metadata.head(5)"
   ]
  },
  {
   "cell_type": "markdown",
   "id": "f08dd666",
   "metadata": {},
   "source": [
    "From this we immediately can see that we get multiple images for multiple tiles of the [Worldwide reference system](https://landsat.gsfc.nasa.gov/about/worldwide-reference-system):"
   ]
  },
  {
   "cell_type": "code",
   "execution_count": null,
   "id": "64c53884",
   "metadata": {},
   "outputs": [],
   "source": [
    "metadata.loc[:, ['WRS_PATH', 'WRS_ROW']].drop_duplicates().head(8)"
   ]
  },
  {
   "cell_type": "markdown",
   "id": "f4ca2444",
   "metadata": {},
   "source": [
    "A given tile is revisited roughly every 2 weeks:"
   ]
  },
  {
   "cell_type": "code",
   "execution_count": null,
   "id": "58add034",
   "metadata": {
    "scrolled": false
   },
   "outputs": [],
   "source": [
    "single_tile_over_time = metadata.query('WRS_PATH == 39 and WRS_ROW == 37')\n",
    "single_tile_over_time"
   ]
  },
  {
   "cell_type": "code",
   "execution_count": null,
   "id": "a71e2ae2",
   "metadata": {},
   "outputs": [],
   "source": [
    "single_tile_over_time.shape"
   ]
  },
  {
   "cell_type": "markdown",
   "id": "fc3a2023",
   "metadata": {},
   "source": [
    "Depending on the time of the year, any given tile might look pretty different for different visits of the satellite:"
   ]
  },
  {
   "cell_type": "code",
   "execution_count": null,
   "id": "938b0ed4",
   "metadata": {},
   "outputs": [],
   "source": [
    "scene = extract_single_img(dataset, 643)\n",
    "\n",
    "Map = geemap.Map()\n",
    "Map.centerObject(scene, 8)\n",
    "Map.addLayer(scene, vis_params_l8, 'default RGB')\n",
    "\n",
    "Map"
   ]
  },
  {
   "cell_type": "markdown",
   "id": "56f6dacb",
   "metadata": {},
   "source": [
    "In particular with weather phenomena like clouds:"
   ]
  },
  {
   "cell_type": "code",
   "execution_count": null,
   "id": "e21246d4",
   "metadata": {},
   "outputs": [],
   "source": [
    "scene = extract_single_img(dataset, 633)\n",
    "\n",
    "Map = geemap.Map()\n",
    "Map.centerObject(scene, 8)\n",
    "Map.addLayer(scene, vis_params_l8, 'default RGB')\n",
    "\n",
    "Map"
   ]
  },
  {
   "cell_type": "markdown",
   "id": "19892cb8",
   "metadata": {},
   "source": [
    "## Mosaic visualization"
   ]
  },
  {
   "cell_type": "markdown",
   "id": "6450e0d4",
   "metadata": {},
   "source": [
    "Clouds are an obvious impediment for any visual inspection. So we can try to improve the visualization of a mosaic by only taking images with rather low ratio of clouds."
   ]
  },
  {
   "cell_type": "markdown",
   "id": "e561e68a",
   "metadata": {},
   "source": [
    "Without any special consideration of clouds, this is what we get:"
   ]
  },
  {
   "cell_type": "code",
   "execution_count": null,
   "id": "e9348c2d",
   "metadata": {},
   "outputs": [],
   "source": [
    "Map = geemap.Map()\n",
    "Map.setCenter(roi_coords[0], roi_coords[1], 6)\n",
    "Map.addLayer(dataset, vis_params_l8)\n",
    "Map"
   ]
  },
  {
   "cell_type": "markdown",
   "id": "957485e5",
   "metadata": {},
   "source": [
    "An easy way to improve things is by taking median pixel values, not only the last observation per pixel:"
   ]
  },
  {
   "cell_type": "code",
   "execution_count": null,
   "id": "6f10227d",
   "metadata": {},
   "outputs": [],
   "source": [
    "Map = geemap.Map()\n",
    "Map.setCenter(roi_coords[0], roi_coords[1], 6)\n",
    "Map.addLayer(dataset.median(), vis_params_l8)\n",
    "Map"
   ]
  },
  {
   "cell_type": "markdown",
   "id": "43515b35",
   "metadata": {},
   "source": [
    "If we sort with regards to cloud coverage, we can easily visualize both extremes for cloud coverage."
   ]
  },
  {
   "cell_type": "code",
   "execution_count": null,
   "id": "79be235a",
   "metadata": {},
   "outputs": [],
   "source": [
    "cloud_reduced_images = dataset.sort('CLOUD_COVER', opt_ascending=True)"
   ]
  },
  {
   "cell_type": "code",
   "execution_count": null,
   "id": "0de43b6f",
   "metadata": {},
   "outputs": [],
   "source": [
    "Map = geemap.Map()\n",
    "Map.setCenter(roi_coords[0], roi_coords[1], 6)\n",
    "Map.addLayer(cloud_reduced_images, vis_params_l8)\n",
    "Map"
   ]
  },
  {
   "cell_type": "code",
   "execution_count": null,
   "id": "d35ca1dc",
   "metadata": {},
   "outputs": [],
   "source": [
    "cloud_reduced_images = dataset.sort('CLOUD_COVER', opt_ascending=False)"
   ]
  },
  {
   "cell_type": "code",
   "execution_count": null,
   "id": "af8d9d03",
   "metadata": {},
   "outputs": [],
   "source": [
    "Map = geemap.Map()\n",
    "Map.setCenter(roi_coords[0], roi_coords[1], 6)\n",
    "Map.addLayer(cloud_reduced_images, vis_params_l8)\n",
    "Map"
   ]
  },
  {
   "cell_type": "markdown",
   "id": "cafec120",
   "metadata": {},
   "source": [
    "Although this is already a huge improvement of the visualization, it still comes with the problem that individual images might be taken from totally different points in time. This might lead to neighbouring images having totally different vegetation states (summer vs winter) or even having snow vs no snow."
   ]
  },
  {
   "cell_type": "markdown",
   "id": "63af6811",
   "metadata": {},
   "source": [
    "## Masking"
   ]
  },
  {
   "cell_type": "markdown",
   "id": "65ff72d5",
   "metadata": {},
   "source": [
    "Masking is a way to create a boolean flag on a pixel level. So for example, for each pixel in an image we could identify whether in this pixel we either see a cloud or a shadow of a cloud. Such a mask can then be used to only show those parts of an image that fulfill a certain level of quality. In the following example we only will show only pixels that are not covered with clouds."
   ]
  },
  {
   "cell_type": "code",
   "execution_count": null,
   "id": "75318de4",
   "metadata": {},
   "outputs": [],
   "source": [
    "scene = extract_single_img(dataset, 633)\n",
    "\n",
    "Map = geemap.Map()\n",
    "Map.centerObject(scene, 8)\n",
    "Map.addLayer(scene, vis_params_l8, 'default RGB')\n",
    "\n",
    "Map"
   ]
  },
  {
   "cell_type": "code",
   "execution_count": null,
   "id": "e79cc2c9",
   "metadata": {},
   "outputs": [],
   "source": [
    "def maskL8sr(image):\n",
    "    # From: https://developers.google.com/earth-engine/datasets/catalog/LANDSAT_LC08_C01_T1_SR\n",
    "    \n",
    "    # Bits 3 and 5 are cloud shadow and cloud, respectively.\n",
    "    cloudShadowBitMask = (1 << 3)\n",
    "    cloudsBitMask = (1 << 5)\n",
    "    \n",
    "    # Get the pixel QA band.\n",
    "    qa = image.select('pixel_qa')\n",
    "    \n",
    "    # Both flags should be set to zero, indicating clear conditions.\n",
    "    mask = qa.bitwiseAnd(cloudShadowBitMask).eq(0) \\\n",
    "                 .And(qa.bitwiseAnd(cloudsBitMask).eq(0))\n",
    "    \n",
    "    return image.updateMask(mask)"
   ]
  },
  {
   "cell_type": "code",
   "execution_count": null,
   "id": "175924bf",
   "metadata": {},
   "outputs": [],
   "source": [
    "scene = maskL8sr(extract_single_img(dataset, 633))\n",
    "\n",
    "Map = geemap.Map()\n",
    "Map.centerObject(scene, 8)\n",
    "Map.addLayer(scene, vis_params_l8, 'default RGB')\n",
    "\n",
    "Map"
   ]
  },
  {
   "cell_type": "markdown",
   "id": "b2cd3486",
   "metadata": {},
   "source": [
    "Now we can also combine masking techniques with median computations: first we filter clouds on a per pixel basis and take the median values of the remaining pixels."
   ]
  },
  {
   "cell_type": "code",
   "execution_count": null,
   "id": "e124c698",
   "metadata": {},
   "outputs": [],
   "source": [
    "Map = geemap.Map()\n",
    "Map.setCenter(roi_coords[0], roi_coords[1], 6)\n",
    "Map.addLayer(dataset.map(maskL8sr).median(), vis_params_l8)\n",
    "Map"
   ]
  }
 ],
 "metadata": {
  "kernelspec": {
   "display_name": "Python 3 (ipykernel)",
   "language": "python",
   "name": "python3"
  },
  "language_info": {
   "codemirror_mode": {
    "name": "ipython",
    "version": 3
   },
   "file_extension": ".py",
   "mimetype": "text/x-python",
   "name": "python",
   "nbconvert_exporter": "python",
   "pygments_lexer": "ipython3",
   "version": "3.8.10"
  }
 },
 "nbformat": 4,
 "nbformat_minor": 5
}
