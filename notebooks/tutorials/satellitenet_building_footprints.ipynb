{
 "cells": [
  {
   "cell_type": "markdown",
   "id": "f550247d-bcb3-4133-a9e1-d358dce33c27",
   "metadata": {},
   "source": [
    "This notebook analysis images with labeled image regions and shows how those labels can be transformed into a format that allows to train machine learning models for image segmentation."
   ]
  },
  {
   "cell_type": "code",
   "execution_count": null,
   "id": "0a246940-40a5-4351-aa81-11ce3213bd78",
   "metadata": {
    "tags": []
   },
   "outputs": [],
   "source": [
    "import rasterio\n",
    "import matplotlib \n",
    "import numpy as np\n",
    "import matplotlib.pyplot as plt\n",
    "from rasterio.plot import show # import the show function which allows us to display the image\n",
    "import geopandas as gpd"
   ]
  },
  {
   "cell_type": "markdown",
   "id": "62dbdd37-442a-4989-b3d5-952a5f2ff4a0",
   "metadata": {},
   "source": [
    "### Load and display metadata"
   ]
  },
  {
   "cell_type": "code",
   "execution_count": null,
   "id": "1a343968-9e0c-4125-a663-90a6accead7b",
   "metadata": {
    "tags": []
   },
   "outputs": [],
   "source": [
    "raster_file = '../../data/external/spacenet/3band_AOI_1_RIO_img5792.tif'\n",
    "geojson_file = '../../data/external/spacenet/Geo_AOI_1_RIO_img5792.geojson'"
   ]
  },
  {
   "cell_type": "code",
   "execution_count": null,
   "id": "e959a854-4243-4b68-8de8-71f29bee856a",
   "metadata": {},
   "outputs": [],
   "source": [
    "import rioxarray"
   ]
  },
  {
   "cell_type": "code",
   "execution_count": null,
   "id": "848c2ead-e510-43ee-8885-6c65fc66e357",
   "metadata": {},
   "outputs": [],
   "source": [
    "img_dataarr = rioxarray.open_rasterio(raster_file)"
   ]
  },
  {
   "cell_type": "code",
   "execution_count": null,
   "id": "9bdff0bb-6c16-49a3-ab0c-b5ee67680206",
   "metadata": {},
   "outputs": [],
   "source": [
    "img_dataarr"
   ]
  },
  {
   "cell_type": "code",
   "execution_count": null,
   "id": "15b02961-4896-449c-be67-0681dffdb318",
   "metadata": {},
   "outputs": [],
   "source": [
    "img_dataarr.rio.crs"
   ]
  },
  {
   "cell_type": "code",
   "execution_count": null,
   "id": "84b95eba-4f61-48a4-b54e-6bfbc4af6fd9",
   "metadata": {},
   "outputs": [],
   "source": [
    "img_dataarr.plot.imshow()\n",
    "plt.show()"
   ]
  },
  {
   "cell_type": "markdown",
   "id": "b019e090-3576-4c2b-8325-14a5d58acd19",
   "metadata": {},
   "source": [
    "### Plot as image"
   ]
  },
  {
   "cell_type": "code",
   "execution_count": null,
   "id": "68ab43d9-6f31-446a-a9b8-e17b6dc31065",
   "metadata": {},
   "outputs": [],
   "source": [
    "img_data = img_dataarr.values\n",
    "img_data = np.transpose(img_data, (1, 2, 0))"
   ]
  },
  {
   "cell_type": "code",
   "execution_count": null,
   "id": "51f84dda-20ed-45a6-8722-bfdc53a86f01",
   "metadata": {
    "tags": []
   },
   "outputs": [],
   "source": [
    "#img = np.dstack((red_band, green_band, blue_band))\n",
    "f = plt.figure()\n",
    "plt.imshow(img_data)\n",
    "plt.show()"
   ]
  },
  {
   "cell_type": "code",
   "execution_count": null,
   "id": "c97cf355-b678-482c-bdab-2de005867ff8",
   "metadata": {},
   "outputs": [],
   "source": [
    "building_footprints = gpd.read_file(geojson_file)\n",
    "building_footprints.head(3)"
   ]
  },
  {
   "cell_type": "code",
   "execution_count": null,
   "id": "e32bd416-ec97-4349-a7a2-0d36e4a660c0",
   "metadata": {},
   "outputs": [],
   "source": [
    "building_footprints.plot()\n",
    "plt.show()"
   ]
  },
  {
   "cell_type": "code",
   "execution_count": null,
   "id": "ba132120-fa8c-4de5-bdd4-ac3dfeeed576",
   "metadata": {},
   "outputs": [],
   "source": [
    "fig, ax0 = plt.subplots(1, 1, figsize=(8,8))\n",
    "\n",
    "img_dataarr.plot.imshow(ax=ax0)\n",
    "building_footprints.plot(ax=ax0, alpha=0.25, edgecolor='None', facecolor='orange')\n",
    "building_footprints.plot(ax=ax0, alpha=0.75, edgecolor='red', facecolor='None')\n",
    "plt.show()"
   ]
  },
  {
   "cell_type": "markdown",
   "id": "aeb70c53-6bca-4f14-ba55-632d02207146",
   "metadata": {},
   "source": [
    "## Rasterize vector data"
   ]
  },
  {
   "cell_type": "markdown",
   "id": "0193829b-40a5-46a0-9fe5-255b0dbc2471",
   "metadata": {},
   "source": [
    "Burn vector data into raster file:"
   ]
  },
  {
   "cell_type": "code",
   "execution_count": null,
   "id": "8dad809f-90a8-44ff-8628-1b43232d70b7",
   "metadata": {},
   "outputs": [],
   "source": [
    "from rasterio import features"
   ]
  },
  {
   "cell_type": "code",
   "execution_count": null,
   "id": "90c24502-17eb-4af1-84e6-dee395111706",
   "metadata": {},
   "outputs": [],
   "source": [
    "img_dataarr.rio.transform()"
   ]
  },
  {
   "cell_type": "code",
   "execution_count": null,
   "id": "d1014a19-9238-4ca5-91f4-57fa77d4cb63",
   "metadata": {},
   "outputs": [],
   "source": [
    "# Rasterize vector using the shape and coordinate system of the raster\n",
    "rasterized = features.rasterize(building_footprints.geometry.values,\n",
    "                                out_shape = img_dataarr.rio.shape,\n",
    "                                fill = 0,\n",
    "                                out = None,\n",
    "                                transform = img_dataarr.rio.transform(),\n",
    "                                all_touched = False,\n",
    "                                default_value = 1,\n",
    "                                dtype = None)"
   ]
  },
  {
   "cell_type": "code",
   "execution_count": null,
   "id": "40644560-01a0-4c61-87ba-69cd29dc64f3",
   "metadata": {},
   "outputs": [],
   "source": [
    "type(rasterized)"
   ]
  },
  {
   "cell_type": "code",
   "execution_count": null,
   "id": "6d208877-22e7-48ea-8c8c-a54846da998e",
   "metadata": {},
   "outputs": [],
   "source": [
    "# Plot raster\n",
    "fig, (ax0, ax1) = plt.subplots(1, 2, figsize = (10, 10))\n",
    "\n",
    "img_dataarr.plot.imshow(ax=ax0)\n",
    "building_footprints.plot(ax=ax0, alpha=0.25, edgecolor='None', facecolor='orange')\n",
    "building_footprints.plot(ax=ax0, alpha=0.75, edgecolor='red', facecolor='None')\n",
    "\n",
    "show(rasterized, ax=ax1)\n",
    "plt.show()"
   ]
  },
  {
   "cell_type": "markdown",
   "id": "6f1b95f5-a408-4d49-b18e-710230cb6ea8",
   "metadata": {},
   "source": [
    "## Verify x/y indexing"
   ]
  },
  {
   "cell_type": "markdown",
   "id": "2502a22e-1c65-40c6-8d44-f1255e250368",
   "metadata": {},
   "source": [
    "The raster matrix is transposed in a sense that index with label `x` is stored in columns. This can be seen from the shape of the index:"
   ]
  },
  {
   "cell_type": "code",
   "execution_count": null,
   "id": "981fe84b-58de-45ea-8ae6-fd41107a90de",
   "metadata": {},
   "outputs": [],
   "source": [
    "img_dataarr.indexes.dims"
   ]
  },
  {
   "cell_type": "code",
   "execution_count": null,
   "id": "3f38d2ec-ee26-4376-8035-cad00871cd18",
   "metadata": {},
   "outputs": [],
   "source": [
    "img_dataarr.x.coords"
   ]
  },
  {
   "cell_type": "code",
   "execution_count": null,
   "id": "d261a027-9702-4026-9dc1-dab2c8b08549",
   "metadata": {},
   "outputs": [],
   "source": [
    "img_dataarr.shape"
   ]
  },
  {
   "cell_type": "code",
   "execution_count": null,
   "id": "474fc353-817e-4b60-a33c-5f2798b93e27",
   "metadata": {},
   "outputs": [],
   "source": [
    "img_data.shape"
   ]
  },
  {
   "cell_type": "code",
   "execution_count": null,
   "id": "e953b1ce-3617-4938-8438-ada0285d7ae9",
   "metadata": {},
   "outputs": [],
   "source": [
    "rasterized.shape"
   ]
  },
  {
   "cell_type": "markdown",
   "id": "cc5a69b1-2c78-45ee-bd98-b5cb75c8b9c2",
   "metadata": {},
   "source": [
    "In other words, the first dimension is `y`, while the second dimension is `x`. This is different for shapely geometries:"
   ]
  },
  {
   "cell_type": "code",
   "execution_count": null,
   "id": "169d04c7-ee8b-44c4-bd47-298bea14f396",
   "metadata": {},
   "outputs": [],
   "source": [
    "this_poly = building_footprints.geometry[0]"
   ]
  },
  {
   "cell_type": "code",
   "execution_count": null,
   "id": "b34d9cf5-fe43-4a24-98a1-f4c590f8d5c0",
   "metadata": {},
   "outputs": [],
   "source": [
    "this_poly.exterior.coords.xy"
   ]
  },
  {
   "cell_type": "code",
   "execution_count": null,
   "id": "080acb92-f6e3-43bf-9d1e-6d6e3ba4bb31",
   "metadata": {},
   "outputs": [],
   "source": [
    "irow = 283 # rows, represents y coordinates\n",
    "icol = 113 # columns, represents x coordinates\n",
    "\n",
    "# usually in a tuple (irow, icol) the first index, irow, reflects rows. The second index, icol, reflects columns\n",
    "# this convention is maintained for images as well, and the horizontal axis is called x, and the vertical axis y.\n",
    "# Hence, (irow, icol) is a plotted as point (y, x) "
   ]
  },
  {
   "cell_type": "code",
   "execution_count": null,
   "id": "568a8fbd-8e2a-4206-811d-fd31491ccdcb",
   "metadata": {},
   "outputs": [],
   "source": [
    "img_data = img_dataarr.values.copy()\n",
    "img_data = np.transpose(img_data, (1, 2, 0))\n",
    "\n",
    "# make rectangular shape with color\n",
    "this_fake_val = 250\n",
    "img_data[0:10, 0:50, 0] = this_fake_val\n",
    "img_data[0:10, 0:50, 1] = this_fake_val\n",
    "img_data[0:10, 0:50, 2] = this_fake_val"
   ]
  },
  {
   "cell_type": "code",
   "execution_count": null,
   "id": "446ffd7b-04dd-44c8-b63d-1693efe47f84",
   "metadata": {},
   "outputs": [],
   "source": [
    "from matplotlib.patches import Circle"
   ]
  },
  {
   "cell_type": "code",
   "execution_count": null,
   "id": "0d050171-a0c2-4f1f-acec-3d861663bdf4",
   "metadata": {},
   "outputs": [],
   "source": [
    "img_data.shape"
   ]
  },
  {
   "cell_type": "code",
   "execution_count": null,
   "id": "1ad91d49-255a-4717-8af3-7e4ab0c9b1b7",
   "metadata": {},
   "outputs": [],
   "source": [
    "this_circle = Circle((icol, irow), radius=5, color='red') # Circle coordinates are given as (x,y); irow represents y, icol represents x"
   ]
  },
  {
   "cell_type": "code",
   "execution_count": null,
   "id": "5a852a94-c385-4209-8c14-6b176ec1a82c",
   "metadata": {},
   "outputs": [],
   "source": [
    "fig, ax = plt.subplots(1)\n",
    "ax.imshow(img_data)\n",
    "ax.add_patch(this_circle)\n",
    "plt.xlabel('x')\n",
    "plt.ylabel('y')\n",
    "plt.show()"
   ]
  },
  {
   "cell_type": "code",
   "execution_count": null,
   "id": "74b07ccf-7cc2-4b9d-b1ab-e60ff25ea0fd",
   "metadata": {},
   "outputs": [],
   "source": [
    "(x_coord, y_coord) = rasterio.transform.xy(img_dataarr.rio.transform(), 0, 0)\n",
    "x_coord, y_coord"
   ]
  },
  {
   "cell_type": "code",
   "execution_count": null,
   "id": "cd3362bc-9cba-415f-8c34-2b1d9d5440c5",
   "metadata": {},
   "outputs": [],
   "source": [
    "fig, ax = plt.subplots(1)\n",
    "img_dataarr.plot.imshow(ax=ax)\n",
    "ax.add_patch(Circle((x_coord, y_coord), radius=0.0001, color='red'))\n",
    "plt.show()"
   ]
  },
  {
   "cell_type": "code",
   "execution_count": null,
   "id": "474fd515-a77e-4589-bb1d-2ed09869ed38",
   "metadata": {},
   "outputs": [],
   "source": [
    "x_coord, y_coord = img_dataarr.rio.transform() * (icol, irow)"
   ]
  },
  {
   "cell_type": "code",
   "execution_count": null,
   "id": "482f7ee1-1649-4349-a0ff-0800ec86e808",
   "metadata": {},
   "outputs": [],
   "source": [
    "x_coord, y_coord"
   ]
  },
  {
   "cell_type": "code",
   "execution_count": null,
   "id": "c1b2f363-cb4c-4f46-9ee1-f6f0db3a129c",
   "metadata": {},
   "outputs": [],
   "source": [
    "# (y_coord, x_coord) = rasterio.transform.xy(img_dataarr.rio.transform(), irow, icol)"
   ]
  },
  {
   "cell_type": "code",
   "execution_count": null,
   "id": "244df822-e5eb-42e9-8ca8-58f6c2295db6",
   "metadata": {},
   "outputs": [],
   "source": [
    "fig, ax = plt.subplots(1)\n",
    "img_dataarr.plot.imshow(ax=ax)\n",
    "ax.add_patch(Circle((x_coord, y_coord), radius=0.00002, color='red'))\n",
    "plt.show()"
   ]
  },
  {
   "cell_type": "markdown",
   "id": "906042c9-c3e9-4e4a-b200-736196e622f4",
   "metadata": {},
   "source": [
    "## Measure distances"
   ]
  },
  {
   "cell_type": "code",
   "execution_count": null,
   "id": "88e45a66-f8f6-4a16-9b08-bd1431426d21",
   "metadata": {},
   "outputs": [],
   "source": [
    "from shapely import Point"
   ]
  },
  {
   "cell_type": "code",
   "execution_count": null,
   "id": "347354e1-368f-44a9-b740-ca56d6cad0fa",
   "metadata": {},
   "outputs": [],
   "source": [
    "this_poly = building_footprints.geometry[0]\n",
    "this_poly_gdp = gpd.GeoDataFrame(geometry=[this_poly], crs=img_dataarr.rio.crs)\n",
    "\n",
    "fig, ax = plt.subplots(1)\n",
    "img_dataarr.plot.imshow(ax=ax)\n",
    "\n",
    "ax.add_patch(Circle((x_coord, y_coord), radius=0.00002, color='red'))\n",
    "this_poly_gdp.plot(ax=ax, facecolor='None', edgecolor='blue')\n",
    "plt.show()"
   ]
  },
  {
   "cell_type": "code",
   "execution_count": null,
   "id": "ce8922b1-7a79-42e2-85ab-dd1efca4189d",
   "metadata": {},
   "outputs": [],
   "source": [
    "this_point = Point(x_coord, y_coord)\n",
    "#this_point = Point(y_coord, x_coord)\n",
    "#this_polygon = shape(feature['geometry'])\n",
    "newpd = this_point.distance(this_poly.boundary)\n",
    "newpd"
   ]
  },
  {
   "cell_type": "code",
   "execution_count": null,
   "id": "60e03fac-5ab7-4c98-adc9-78bbdf4fc1b9",
   "metadata": {},
   "outputs": [],
   "source": [
    "this_poly.bounds"
   ]
  },
  {
   "cell_type": "code",
   "execution_count": null,
   "id": "7bf94230-d274-4d7a-9f0e-cd7668ea0cb1",
   "metadata": {},
   "outputs": [],
   "source": [
    "this_point.coords[0]"
   ]
  },
  {
   "cell_type": "code",
   "execution_count": null,
   "id": "4112c0cd-e7a5-4ba3-bbcf-089d4403b059",
   "metadata": {},
   "outputs": [],
   "source": [
    "counter = 0\n",
    "min_counter = 0\n",
    "running_min_dist = 100000\n",
    "poly_contain_index = None\n",
    "\n",
    "for this_poly in building_footprints.geometry:\n",
    "    \n",
    "    this_dist = this_point.distance(this_poly.boundary)\n",
    "    if this_dist < running_min_dist:\n",
    "        running_min_dist = this_dist\n",
    "        min_counter = counter\n",
    "    \n",
    "    if this_poly.contains(this_point):\n",
    "        poly_contain_index = counter\n",
    "        \n",
    "    counter += 1"
   ]
  },
  {
   "cell_type": "code",
   "execution_count": null,
   "id": "6b6515db-ee41-4811-8f37-3462a96d99a8",
   "metadata": {},
   "outputs": [],
   "source": [
    "min_counter"
   ]
  },
  {
   "cell_type": "code",
   "execution_count": null,
   "id": "0ccdb07c-270a-4ba4-b27a-0279bebaf123",
   "metadata": {},
   "outputs": [],
   "source": [
    "poly_contain_index"
   ]
  },
  {
   "cell_type": "code",
   "execution_count": null,
   "id": "870eaaa9-8f02-4476-a8c8-3ce97d6d616e",
   "metadata": {},
   "outputs": [],
   "source": [
    "this_poly = building_footprints.geometry[poly_contain_index]\n",
    "this_poly_gdp = gpd.GeoDataFrame(geometry=[this_poly], crs=img_dataarr.rio.crs)\n",
    "\n",
    "fig, ax = plt.subplots(1)\n",
    "img_dataarr.plot.imshow(ax=ax)\n",
    "\n",
    "ax.add_patch(Circle((x_coord, y_coord), radius=0.00002, color='red'))\n",
    "this_poly_gdp.plot(ax=ax, facecolor='None', edgecolor='blue')\n",
    "plt.show()"
   ]
  },
  {
   "cell_type": "markdown",
   "id": "14a9f193-aa80-4e21-b4ba-8bba24cb5357",
   "metadata": {},
   "source": [
    "Compute minimum distance for each pixel"
   ]
  },
  {
   "cell_type": "code",
   "execution_count": null,
   "id": "4398b144-b864-4599-acfb-c8d07788ac6f",
   "metadata": {},
   "outputs": [],
   "source": [
    "this_point = Point(x_coord, y_coord)"
   ]
  },
  {
   "cell_type": "code",
   "execution_count": null,
   "id": "5fd962b3-f0c5-49d7-a3b3-d66429e2e82e",
   "metadata": {},
   "outputs": [],
   "source": [
    "def get_min_distance(this_point, building_footprints):\n",
    "    \n",
    "    counter = 0\n",
    "    running_min_dist = 100000\n",
    "    \n",
    "    for this_poly in building_footprints.geometry:\n",
    "        \n",
    "        this_dist = this_point.distance(this_poly.boundary)\n",
    "        \n",
    "        if this_poly.contains(this_point):\n",
    "            \n",
    "            this_dist = -1 * this_dist\n",
    "            running_min_dist = this_dist\n",
    "            \n",
    "            return running_min_dist\n",
    "        \n",
    "        else:\n",
    "            \n",
    "            if this_dist < running_min_dist:\n",
    "            \n",
    "                running_min_dist = this_dist\n",
    "\n",
    "    return running_min_dist"
   ]
  },
  {
   "cell_type": "code",
   "execution_count": null,
   "id": "49b3bcb7-f165-4503-bfd8-de99ff2ee678",
   "metadata": {},
   "outputs": [],
   "source": [
    "n_rows, n_cols, _ = img_data.shape"
   ]
  },
  {
   "cell_type": "code",
   "execution_count": null,
   "id": "690e241b-d882-4f72-897e-b941669c1666",
   "metadata": {},
   "outputs": [],
   "source": [
    "%%time\n",
    "\n",
    "min_dist_matr = np.zeros((n_rows, n_cols))\n",
    "\n",
    "for icol in range(0, n_cols):\n",
    "    for irow in range(0, n_rows):\n",
    "        x_coord, y_coord = img_dataarr.rio.transform() * (icol, irow)\n",
    "        this_point = Point(x_coord, y_coord)\n",
    "        \n",
    "        min_dist = get_min_distance(this_point, building_footprints)\n",
    "        min_dist_matr[irow, icol] = min_dist\n",
    "        "
   ]
  },
  {
   "cell_type": "code",
   "execution_count": null,
   "id": "f1de1f64-1379-4a61-90a2-9f03564e1e56",
   "metadata": {},
   "outputs": [],
   "source": [
    "fig, (ax0, ax1) = plt.subplots(1, 2, figsize = (10, 10))\n",
    "\n",
    "ax0.imshow(min_dist_matr, vmin=-0.00001, vmax=0.0001, cmap='jet_r')\n",
    "#ax0.colorbar()\n",
    "\n",
    "show(rasterized, ax=ax1)\n",
    "plt.show()"
   ]
  },
  {
   "cell_type": "code",
   "execution_count": null,
   "id": "ea02cfd0-c0db-49ed-8fad-fb6e35af3eef",
   "metadata": {},
   "outputs": [],
   "source": [
    "from scipy.ndimage import distance_transform_edt"
   ]
  },
  {
   "cell_type": "code",
   "execution_count": null,
   "id": "f32b4d4d-b3e8-4279-976e-bdca95703395",
   "metadata": {},
   "outputs": [],
   "source": [
    "%%time\n",
    "\n",
    "im_dist = distance_transform_edt(rasterized)\n",
    "\n",
    "rasterized_inv = 1 - rasterized\n",
    "im_dist_inv = distance_transform_edt(rasterized_inv)"
   ]
  },
  {
   "cell_type": "markdown",
   "id": "41d74000-d77f-4e9e-b668-042aa754622d",
   "metadata": {},
   "source": [
    "Merge distance transforms"
   ]
  },
  {
   "cell_type": "code",
   "execution_count": null,
   "id": "3e9c7e79-d1aa-45ae-8d29-64ab38804311",
   "metadata": {},
   "outputs": [],
   "source": [
    "im_dist_merged = (-1)*im_dist.copy()\n",
    "im_dist_merged[im_dist_inv > 0] = im_dist_inv[im_dist_inv > 0]"
   ]
  },
  {
   "cell_type": "code",
   "execution_count": null,
   "id": "c214f1bf-10df-4d8c-8d05-a4c946f3695b",
   "metadata": {},
   "outputs": [],
   "source": [
    "np.min(im_dist_merged)"
   ]
  },
  {
   "cell_type": "code",
   "execution_count": null,
   "id": "0cc7ba69-9295-4fbb-84ea-90af5d7ba27e",
   "metadata": {},
   "outputs": [],
   "source": [
    "np.max(im_dist_merged)"
   ]
  },
  {
   "cell_type": "code",
   "execution_count": null,
   "id": "af0d98a4-7006-44d5-acee-57a4580057e7",
   "metadata": {},
   "outputs": [],
   "source": [
    "np.min(min_dist_matr), np.max(min_dist_matr)"
   ]
  },
  {
   "cell_type": "code",
   "execution_count": null,
   "id": "caf59e50-43c1-439d-8c00-b900a5002b91",
   "metadata": {},
   "outputs": [],
   "source": [
    "plt.imshow(im_dist_merged, vmin=-7, vmax=10, cmap='jet_r')\n",
    "plt.colorbar()\n",
    "plt.show()"
   ]
  },
  {
   "cell_type": "code",
   "execution_count": null,
   "id": "972908c4-c14f-4b08-98d6-49e04219762d",
   "metadata": {},
   "outputs": [],
   "source": [
    "fig, (ax0, ax1) = plt.subplots(1, 2, figsize = (10, 10))\n",
    "\n",
    "ax0.imshow(min_dist_matr, vmin=-0.00001, vmax=0.0001, cmap='jet_r')\n",
    "#ax0.colorbar()\n",
    "\n",
    "plt.imshow(im_dist_merged, vmin=-7, vmax=10, cmap='jet_r')\n",
    "plt.show()"
   ]
  },
  {
   "cell_type": "markdown",
   "id": "f3f05013-eb0e-4de5-9210-90f8d74160aa",
   "metadata": {},
   "source": [
    "## Post-processing"
   ]
  },
  {
   "cell_type": "code",
   "execution_count": null,
   "id": "bf3f106a-7f76-45f0-983c-299af50da2a2",
   "metadata": {},
   "outputs": [],
   "source": [
    "pos_values = (min_dist_matr > 0)*(1)\n",
    "plt.imshow(pos_values)\n",
    "plt.show()"
   ]
  },
  {
   "cell_type": "code",
   "execution_count": null,
   "id": "07c83c05-d7f2-4058-b8b2-b0d4dbf820ea",
   "metadata": {},
   "outputs": [],
   "source": [
    "neg_values = (min_dist_matr < 0)*(-1)\n",
    "plt.imshow(neg_values)\n",
    "plt.show()"
   ]
  },
  {
   "cell_type": "code",
   "execution_count": null,
   "id": "1e258767-647d-474e-acb1-3e17874d3cfa",
   "metadata": {},
   "outputs": [],
   "source": [
    "building_estimates = (-1)*im_dist_merged.copy()\n",
    "building_estimates[building_estimates < 0] = 0"
   ]
  },
  {
   "cell_type": "code",
   "execution_count": null,
   "id": "eab3b1fc-9f5f-4e42-b73f-189bd73e0c45",
   "metadata": {},
   "outputs": [],
   "source": [
    "to_be_classified = building_estimates > 0 # all positive values are inside of a building\n",
    "cluster_int = 1\n",
    "all_clusters = building_estimates * 0"
   ]
  },
  {
   "cell_type": "code",
   "execution_count": null,
   "id": "e3ac7e3b-c5fd-49f6-8be8-08d80b173c9c",
   "metadata": {},
   "outputs": [],
   "source": [
    "plt.imshow(to_be_classified)"
   ]
  },
  {
   "cell_type": "code",
   "execution_count": null,
   "id": "824e9ec1-704d-4d93-a061-16eb30a1d7d9",
   "metadata": {},
   "outputs": [],
   "source": [
    "def get_remaining_maximum(building_estimates, to_be_classified):\n",
    "    \"\"\"\n",
    "    Find maximum value of remaining pixels. Positive values denote building interiors.\n",
    "    \"\"\"\n",
    "    \n",
    "    peak = np.argmax(np.multiply(building_estimates, to_be_classified))\n",
    "    \n",
    "    i_row = int(peak/building_estimates.shape[1])\n",
    "    i_col = int(peak - i_row * building_estimates.shape[1])\n",
    "    \n",
    "    return i_row, i_col\n",
    "\n",
    "def decreasing_neighbor_check(shift_matr, matr):\n",
    "    \"\"\"\n",
    "    For a left-, right-, top- or bottom-shifted matrix, check whether new cluster neighbors are of decreasing slope\n",
    "    \"\"\"\n",
    "\n",
    "    slope_matr = shift_matr - matr\n",
    "    decreasing_neighbors = np.logical_and((slope_matr > 0), shift_matr > 0)#.astype(int)\n",
    "\n",
    "    return decreasing_neighbors"
   ]
  },
  {
   "cell_type": "code",
   "execution_count": null,
   "id": "743adc86-ffd4-40b5-8adb-d283fb093f07",
   "metadata": {},
   "outputs": [],
   "source": [
    "# building_estimates[i_row-2:i_row+2, i_col-2:i_col+2]"
   ]
  },
  {
   "cell_type": "code",
   "execution_count": null,
   "id": "cfe2e8d4-9801-4108-8377-89b2fa313f6e",
   "metadata": {},
   "outputs": [],
   "source": [
    "# np.max(np.multiply(building_estimates, to_be_classified))"
   ]
  },
  {
   "cell_type": "code",
   "execution_count": null,
   "id": "df0f03ba-b796-4ddd-8956-89f2fc6a56d5",
   "metadata": {},
   "outputs": [],
   "source": [
    "# to_be_classified[i_row-2:i_row+2, i_col-2:i_col+2]"
   ]
  },
  {
   "cell_type": "code",
   "execution_count": null,
   "id": "53b34d67-6bc8-4565-91a2-6e52608fcb58",
   "metadata": {},
   "outputs": [],
   "source": [
    "while np.any(to_be_classified):\n",
    "    \n",
    "    if cluster_int > 100:\n",
    "        print('Emergency break')\n",
    "        break\n",
    "        \n",
    "    i_row, i_col = get_remaining_maximum(building_estimates, to_be_classified)\n",
    "    \n",
    "    # initialize current cluster\n",
    "    this_cluster = building_estimates * 0\n",
    "    this_cluster[i_row, i_col] = 1\n",
    "    to_be_classified[i_row, i_col] = False\n",
    "\n",
    "    cluster_not_final = True\n",
    "    \n",
    "    # start of WHILE loop\n",
    "\n",
    "    while cluster_not_final:\n",
    "\n",
    "        cluster_size = np.sum(this_cluster > 0)\n",
    "        #print(f'Current cluster size: {cluster_size}')\n",
    "\n",
    "        # grow current cluster with neighboring pixels (that are still to be classified) of decreasing values\n",
    "        matr = this_cluster.copy()\n",
    "\n",
    "        # create shifted matrices\n",
    "        n_rows, n_cols = matr.shape\n",
    "        col_zeros = np.zeros((n_rows, 1))\n",
    "        row_zeros = np.zeros((1, n_cols))\n",
    "\n",
    "        right_shift = np.hstack((col_zeros, matr[:, 0:-1]))\n",
    "        left_shift = np.hstack((matr[:, 1:], col_zeros))\n",
    "        top_shift = np.vstack((row_zeros, matr[0:-1, :]))\n",
    "        down_shift = np.vstack((matr[1:, :], row_zeros))\n",
    "\n",
    "        # check for decreasing neighbors\n",
    "        candidates_right = decreasing_neighbor_check(right_shift, matr)\n",
    "        candidates_left = decreasing_neighbor_check(left_shift, matr)\n",
    "        candidates_top = decreasing_neighbor_check(top_shift, matr)\n",
    "        candidates_down = decreasing_neighbor_check(down_shift, matr)\n",
    "\n",
    "        # aggregate\n",
    "        new_cluster_points = (candidates_right | candidates_left | candidates_top | candidates_down) & to_be_classified\n",
    "\n",
    "        n_new_points = np.sum(new_cluster_points > 0)\n",
    "\n",
    "        # update cluster and to_be_classified\n",
    "        this_cluster[new_cluster_points] = cluster_int\n",
    "        to_be_classified[new_cluster_points] = False\n",
    "\n",
    "        if n_new_points == 0:\n",
    "            \n",
    "            print(f'New cluster done: {cluster_int} with {np.sum(this_cluster > 0)} points')\n",
    "            cluster_not_final = False\n",
    "            all_clusters[this_cluster > 0] = cluster_int\n",
    "\n",
    "#             fig, (ax0, ax1) = plt.subplots(1, 2, figsize = (10, 10))\n",
    "\n",
    "#             # visualize current cluster\n",
    "#             ax0.imshow(this_cluster)\n",
    "#             ax1.imshow(to_be_classified)\n",
    "            \n",
    "#             plt.show()\n",
    "            \n",
    "            cluster_int += 1\n",
    "            \n"
   ]
  },
  {
   "cell_type": "code",
   "execution_count": null,
   "id": "d2738953-f51a-4804-925c-5a500ba21b4f",
   "metadata": {},
   "outputs": [],
   "source": [
    "all_clusters_disp = all_clusters.copy()\n",
    "all_clusters_disp[all_clusters == 0] = -200"
   ]
  },
  {
   "cell_type": "code",
   "execution_count": null,
   "id": "78a9a3e7-45ee-4a5b-a408-fda2e3f094a8",
   "metadata": {},
   "outputs": [],
   "source": [
    "# Plot raster\n",
    "fig, (ax0, ax1) = plt.subplots(1, 2, figsize = (10, 10))\n",
    "\n",
    "img_dataarr.plot.imshow(ax=ax0)\n",
    "building_footprints.plot(ax=ax0, alpha=0.25, edgecolor='None', facecolor='orange')\n",
    "building_footprints.plot(ax=ax0, alpha=0.75, edgecolor='red', facecolor='None')\n",
    "\n",
    "ax1.imshow(all_clusters_disp)\n",
    "plt.show()"
   ]
  },
  {
   "cell_type": "markdown",
   "id": "91de054d-e0e7-4f37-8fdf-9357d429a2c7",
   "metadata": {},
   "source": [
    "### Transform to vector geometries"
   ]
  },
  {
   "cell_type": "markdown",
   "id": "e20f2ca3-287a-414d-8f43-d1c1adb25d67",
   "metadata": {},
   "source": [
    "### Compute score"
   ]
  }
 ],
 "metadata": {
  "kernelspec": {
   "display_name": "Python 3 (ipykernel)",
   "language": "python",
   "name": "python3"
  },
  "language_info": {
   "codemirror_mode": {
    "name": "ipython",
    "version": 3
   },
   "file_extension": ".py",
   "mimetype": "text/x-python",
   "name": "python",
   "nbconvert_exporter": "python",
   "pygments_lexer": "ipython3",
   "version": "3.10.6"
  }
 },
 "nbformat": 4,
 "nbformat_minor": 5
}
