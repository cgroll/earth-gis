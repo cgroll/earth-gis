{
 "cells": [
  {
   "cell_type": "code",
   "execution_count": null,
   "id": "ce991752-9306-4c65-a16d-f4303c95e278",
   "metadata": {},
   "outputs": [],
   "source": [
    "import rioxarray\n",
    "from shapely.geometry import Point\n",
    "from shapely import Polygon\n",
    "from pystac_client import Client\n",
    "import math\n",
    "import matplotlib.pyplot as plt\n",
    "import geopandas as gpd\n",
    "import contextily as cx"
   ]
  },
  {
   "cell_type": "markdown",
   "id": "64b1761d-5eef-4ad9-926d-b864fdbd733b",
   "metadata": {},
   "source": [
    "There are multiple ways to map points of a 3D globe to a 2D map. Each transformation comes with its own coordinate reference system (CRS). Whenever you want to work with different data sources you will need to make sure that all your data is aligned. Aligning data from different coordinate reference systems can be achieved by reprojecting all data to a common CRS.\n",
    "\n",
    "When working with satellite data you will usually have to deal with reprojections, as individual images are usually given in terms of a local CRS, but not with a CRS that was designed for global applications. Also, satellite images are usually oriented in line with the orbit of the satellite, so that they appear \"tilted\" with regards to most CRSs.\n",
    "\n",
    "In this notebook we will inspect some properties of satellite images, reprojections to different CRSs and clipping (subsetting) of images."
   ]
  },
  {
   "cell_type": "markdown",
   "id": "ac079f04-9ca7-4943-9dac-fd0a1b843b97",
   "metadata": {},
   "source": [
    "## Load and visualize a true color image of Las Vegas"
   ]
  },
  {
   "cell_type": "markdown",
   "id": "8d2de6aa-50fc-4b7e-b783-ab41560fe502",
   "metadata": {},
   "source": [
    "Let's first define a point of interest for our analysis. In this case we choose Las Vegas."
   ]
  },
  {
   "cell_type": "code",
   "execution_count": null,
   "id": "7e1e76f5-4378-47d4-b320-5c1c9cc65b97",
   "metadata": {},
   "outputs": [],
   "source": [
    "poi = Point(-115.3036586, 36.1287561) # Las Vegas"
   ]
  },
  {
   "cell_type": "markdown",
   "id": "f09bb7be-0312-4d62-a193-003fa9291b65",
   "metadata": {},
   "source": [
    "Now we need to find a satellite image for our point of interest. The easiest way to do this is by using a STAC browser. We will use atmospherically corrected Surface Reflectance Sentinel images (Level 2A data) that are derived from the associated Level-1C products (https://sentinels.copernicus.eu/web/sentinel/user-guides/sentinel-2-msi/product-types/level-2a)."
   ]
  },
  {
   "cell_type": "code",
   "execution_count": null,
   "id": "598988d1-c6f2-41e1-9d82-146f5c739ae0",
   "metadata": {},
   "outputs": [],
   "source": [
    "api_url = \"https://earth-search.aws.element84.com/v0\"\n",
    "client = Client.open(api_url)\n",
    "\n",
    "collection = \"sentinel-s2-l2a-cogs\" \n",
    "search = client.search(\n",
    "    collections=[collection],\n",
    "    intersects=poi,\n",
    "    datetime=\"2023-03-26/2023-03-27\"\n",
    ")"
   ]
  },
  {
   "cell_type": "markdown",
   "id": "4353928b-ece0-459d-a934-07a2aac3fa04",
   "metadata": {},
   "source": [
    "For the given query we find two images:"
   ]
  },
  {
   "cell_type": "code",
   "execution_count": null,
   "id": "ef061a8f-fde9-4f35-9741-29f2202279c1",
   "metadata": {
    "tags": []
   },
   "outputs": [],
   "source": [
    "items = search.get_all_items()\n",
    "len(items)"
   ]
  },
  {
   "cell_type": "markdown",
   "id": "c37af670-646f-4245-b18f-73d8a4d54ac8",
   "metadata": {},
   "source": [
    "In order to better understand what the data looks like, we first load a true color overview image from the dataset. This is a rather low resolution image to give us a quick visualization."
   ]
  },
  {
   "cell_type": "code",
   "execution_count": null,
   "id": "eccf30cf-ddec-4d5f-a7ef-b7c00ebf61f1",
   "metadata": {},
   "outputs": [],
   "source": [
    "href = items[0].assets['overview'].href\n",
    "href"
   ]
  },
  {
   "cell_type": "code",
   "execution_count": null,
   "id": "252b80e6-9ebc-4a3f-b494-995df50b10e0",
   "metadata": {},
   "outputs": [],
   "source": [
    "visual_tif = rioxarray.open_rasterio(href)"
   ]
  },
  {
   "cell_type": "code",
   "execution_count": null,
   "id": "4d9cfecf-b759-455b-bcc5-dadd3565853f",
   "metadata": {},
   "outputs": [],
   "source": [
    "visual_tif"
   ]
  },
  {
   "cell_type": "markdown",
   "id": "b3687ac4-17d7-4fda-ac4e-06558fb6055f",
   "metadata": {},
   "source": [
    "A true color visualization can be obtained using `imshow`:"
   ]
  },
  {
   "cell_type": "code",
   "execution_count": null,
   "id": "cd35a0e3-aeca-4222-8564-7339fd5949ac",
   "metadata": {},
   "outputs": [],
   "source": [
    "visual_tif.plot.imshow()\n",
    "plt.show()"
   ]
  },
  {
   "cell_type": "markdown",
   "id": "410e2b06-635e-48fc-8c6e-9e8fe96e31f7",
   "metadata": {},
   "source": [
    "From the axis tick labels we can already see that x and y coordinates are not given in terms of latitude and longitude. The exact CRS is attached to the dataset:"
   ]
  },
  {
   "cell_type": "code",
   "execution_count": null,
   "id": "14be07bd-060e-4686-8b2e-9e47186f7cc2",
   "metadata": {},
   "outputs": [],
   "source": [
    "visual_tif.rio.crs"
   ]
  },
  {
   "cell_type": "markdown",
   "id": "3b9f7539-e97e-461a-a6aa-3d150c5ad817",
   "metadata": {},
   "source": [
    "## Visualize image bounds in CRSs"
   ]
  },
  {
   "cell_type": "markdown",
   "id": "e0f2bbb1-98d2-4e61-a714-4d908b80d1ea",
   "metadata": {},
   "source": [
    "From the image metadata we can get the coordinates of the satellite image bounds:"
   ]
  },
  {
   "cell_type": "code",
   "execution_count": null,
   "id": "50362100-4d55-43d9-8094-1533da9266c2",
   "metadata": {},
   "outputs": [],
   "source": [
    "items[0].geometry"
   ]
  },
  {
   "cell_type": "markdown",
   "id": "dc93bed0-58e0-4f86-bb4b-1bb782b47790",
   "metadata": {},
   "source": [
    "However, we can immediately see that those coordinates are given in terms of latitude and longitude, although the projection of the image is EPSG 32611 (as we already know):"
   ]
  },
  {
   "cell_type": "code",
   "execution_count": null,
   "id": "0bac4c1f-9dd4-406f-a8e5-ac99cb13226a",
   "metadata": {},
   "outputs": [],
   "source": [
    "items[0].properties['proj:epsg']"
   ]
  },
  {
   "cell_type": "markdown",
   "id": "99ccac88-6803-4674-95c7-2e20365af464",
   "metadata": {},
   "source": [
    "I did not find any other CRS mention, so that I assume that the geometry polygon is given in a popular global CRS, e.g. EPSG 4326. So this is what we will assume for now. Let's pull most metadata from the items and keep them in a `GeoDataFrame`. We will also create \"granule\" labels for the images that label the individual regions where satellite images exist."
   ]
  },
  {
   "cell_type": "code",
   "execution_count": null,
   "id": "9f77e77a-9e08-4d2a-8180-1659f9c835e2",
   "metadata": {},
   "outputs": [],
   "source": [
    "stac_json = search.get_all_items_as_dict()"
   ]
  },
  {
   "cell_type": "code",
   "execution_count": null,
   "id": "276429c5-de20-4169-b0bf-0a2f56f5fcc4",
   "metadata": {},
   "outputs": [],
   "source": [
    "#gdf = gpd.GeoDataFrame.from_features(stac_json, visual_tif.rio.crs)\n",
    "gdf = gpd.GeoDataFrame.from_features(stac_json, \"epsg:4326\")\n",
    "\n",
    "gdf[\"granule\"] = (\n",
    "    gdf[\"sentinel:utm_zone\"].apply(lambda x: f\"{x:02d}\")\n",
    "    + gdf[\"sentinel:latitude_band\"]\n",
    "    + gdf[\"sentinel:grid_square\"]\n",
    ")"
   ]
  },
  {
   "cell_type": "markdown",
   "id": "aedf309c-b729-41dd-9314-31442be92131",
   "metadata": {},
   "source": [
    "Now we can visualize the satellite image boxes for our images together with a base map:"
   ]
  },
  {
   "cell_type": "code",
   "execution_count": null,
   "id": "7a2c18af-2652-4e3c-a50a-2d4e768c38ca",
   "metadata": {},
   "outputs": [],
   "source": [
    "ax = gdf.plot(\n",
    "    \"granule\",\n",
    "    edgecolor=\"black\",\n",
    "    facecolor=\"None\",\n",
    "    categorical=True,\n",
    "    aspect=\"equal\",\n",
    "    alpha=0.2,\n",
    "    figsize=(6, 12),\n",
    "    legend=True,\n",
    "    legend_kwds={\"loc\": \"upper left\", \"frameon\": False, \"ncol\": 1},\n",
    ")\n",
    "\n",
    "cx.add_basemap(\n",
    "    ax, crs=gdf.crs.to_string(), source=cx.providers.CartoDB.Voyager\n",
    ")\n",
    "\n",
    "plt.title('Image bounds in EPSG 4326')\n",
    "plt.show()"
   ]
  },
  {
   "cell_type": "markdown",
   "id": "dd8615fd-1c38-4177-9a13-0d1dadf9b65f",
   "metadata": {},
   "source": [
    "As we can see, the satellite image is slightly tilted in this global CRS. Let's reproject to the image CRS and visualize the image bounds again:"
   ]
  },
  {
   "cell_type": "code",
   "execution_count": null,
   "id": "886d87a1-bfec-4864-bc96-58ab82ab0cad",
   "metadata": {},
   "outputs": [],
   "source": [
    "this_proj_str = '+proj=utm +zone=11 +datum=WGS84 +units=m +no_defs +type=crs'\n",
    "gdf_reproj = gdf.to_crs(this_proj_str)"
   ]
  },
  {
   "cell_type": "code",
   "execution_count": null,
   "id": "ac3256b6-1340-4719-a67e-b2e8cdb208f4",
   "metadata": {},
   "outputs": [],
   "source": [
    "ax = gdf_reproj.plot(\n",
    "    \"granule\",\n",
    "    edgecolor=\"black\",\n",
    "    facecolor=\"None\",\n",
    "    categorical=True,\n",
    "    aspect=\"equal\",\n",
    "    alpha=0.2,\n",
    "    figsize=(6, 12),\n",
    "    legend=True,\n",
    "    legend_kwds={\"loc\": \"upper left\", \"frameon\": False, \"ncol\": 1},\n",
    ")\n",
    "\n",
    "cx.add_basemap(\n",
    "    ax, crs=gdf_reproj.crs.to_string(), source=cx.providers.CartoDB.Voyager\n",
    ")\n",
    "\n",
    "plt.title('Image bounds in EPSG 32611')\n",
    "plt.show()"
   ]
  },
  {
   "cell_type": "markdown",
   "id": "3e9a15c0-a33a-4a1d-936a-2fa65e85c104",
   "metadata": {},
   "source": [
    "This time the image is better aligned with the CRS."
   ]
  },
  {
   "cell_type": "markdown",
   "id": "5f856df8-9fb4-498b-b207-8139fd5fab43",
   "metadata": {
    "tags": []
   },
   "source": [
    "### Image clipping"
   ]
  },
  {
   "cell_type": "markdown",
   "id": "2afba298-cae3-407f-96bd-45c826aeb972",
   "metadata": {},
   "source": [
    "Satellite images tend to be rather large files. In many cases it would be sufficient to only pick a small subset of the satellite image. Again, you will need to be careful in which CRS you define your subset.\n",
    "\n",
    "As an example, let's now define a rectangle around our focus point. The rectangle should span a certain distance in kilometers. Hence, we first need to translate the requested width of the rectangle into coordinates of our CRS system. In applications with data from different latitudes of the world you will probably need to translate kilometers into latitude and longitude values of a global CRS.\n",
    "\n",
    "An easy way to do this is to assume that the earth is a perfectly spherical shape. Still, we need to take into account that latitude circles around the globe are shorter the closer they are to one of the poles. Only at the equator the latitude circle has maximum size with one degree of longitude amounting to roughly 111 kilometers. The closer you get to the poles, the shorter the distance between two longitude lines will be. In the limit, the distance goes to zero.\n",
    "\n",
    "Let's now compute the distance between longitude lines in the vicinity of our point of interest."
   ]
  },
  {
   "cell_type": "code",
   "execution_count": null,
   "id": "45d82757-5f1e-496b-9546-c74dc812fbfd",
   "metadata": {},
   "outputs": [],
   "source": [
    "lon_val, lat_val = poi.coords.xy"
   ]
  },
  {
   "cell_type": "code",
   "execution_count": null,
   "id": "e4003a0a-2f0c-4b03-a9e0-463e0b623c1d",
   "metadata": {},
   "outputs": [],
   "source": [
    "lon_val[0]"
   ]
  },
  {
   "cell_type": "code",
   "execution_count": null,
   "id": "2bf42091-78ad-423f-81fb-78d4baada28c",
   "metadata": {},
   "outputs": [],
   "source": [
    "one_degree_latitude_equator = 111\n",
    "one_degree_longitude_equator = 111.321 # km\n",
    "lat_scale_factor = math.cos(math.radians(lat_val[0]))\n",
    "one_degree_longitude_at_point = one_degree_longitude_equator * lat_scale_factor\n",
    "one_degree_longitude_at_point"
   ]
  },
  {
   "cell_type": "markdown",
   "id": "0a57bbb4-4de2-4c24-9821-4b8f6aa42dbf",
   "metadata": {},
   "source": [
    "Hence, the distance between longitude lines is roughly 90 kilometers at our point of interest, as opposed to 111 kilometers at the equator. Given this information, we can easily translate kilometers into deltas in terms of latitude and longitude:"
   ]
  },
  {
   "cell_type": "code",
   "execution_count": null,
   "id": "3757f21b-df32-4a38-bc77-7c17f9fff8a9",
   "metadata": {},
   "outputs": [],
   "source": [
    "box_in_km = 60\n",
    "lat_delta = box_in_km / one_degree_latitude_equator\n",
    "long_delta = box_in_km / one_degree_longitude_at_point"
   ]
  },
  {
   "cell_type": "code",
   "execution_count": null,
   "id": "3bfee673-c23f-4ca3-a4e0-4063cb8feedc",
   "metadata": {},
   "outputs": [],
   "source": [
    "lat_delta"
   ]
  },
  {
   "cell_type": "code",
   "execution_count": null,
   "id": "892eba1c-37ad-42ed-93c0-b396bf19ecef",
   "metadata": {},
   "outputs": [],
   "source": [
    "long_delta"
   ]
  },
  {
   "cell_type": "markdown",
   "id": "a3c6428f-78a5-4a14-8f35-d24927df4d62",
   "metadata": {},
   "source": [
    "Using those delta values we can now create a rectangular box around our point of interest in our global CRS:"
   ]
  },
  {
   "cell_type": "code",
   "execution_count": null,
   "id": "565dd665-fe82-4d80-9089-eec39f10c723",
   "metadata": {},
   "outputs": [],
   "source": [
    "yup = lat_val[0] + lat_delta/2\n",
    "ylow = lat_val[0] - lat_delta/2\n",
    "\n",
    "xup = lon_val[0] + long_delta/2\n",
    "xlow = lon_val[0] - long_delta/2"
   ]
  },
  {
   "cell_type": "code",
   "execution_count": null,
   "id": "4748c3fb-f89a-4de0-85ad-c0e2197531d9",
   "metadata": {},
   "outputs": [],
   "source": [
    "polygon_geom = Polygon([[xlow, ylow], [xup, ylow], [xup, yup], [xlow, yup]])\n",
    "polygon = gpd.GeoDataFrame(index=[0], crs='epsg:4326', geometry=[polygon_geom])"
   ]
  },
  {
   "cell_type": "markdown",
   "id": "c84e60a7-c9b0-4864-a1c8-ef746f31667e",
   "metadata": {},
   "source": [
    "The following image shows this rectangle together with a base map:"
   ]
  },
  {
   "cell_type": "code",
   "execution_count": null,
   "id": "9d1d617a-29e0-47f6-9b05-e7237af2e955",
   "metadata": {},
   "outputs": [],
   "source": [
    "ax = polygon.plot(alpha=0.8, facecolor='None', edgecolor='black')\n",
    "cx.add_basemap(\n",
    "    ax, crs=polygon.crs.to_string(), source=cx.providers.CartoDB.Voyager\n",
    ")"
   ]
  },
  {
   "cell_type": "markdown",
   "id": "a0f8379b-6699-4679-a011-07f8587f8f1d",
   "metadata": {},
   "source": [
    "If we project the rectangular shape that we created in EPSG 4326 to the CRS of the satellite image, we will see that the rectangle gets tilted."
   ]
  },
  {
   "cell_type": "code",
   "execution_count": null,
   "id": "c906caf2-3d69-4046-86fb-3feb05b9e263",
   "metadata": {},
   "outputs": [],
   "source": [
    "this_proj_str = '+proj=utm +zone=11 +datum=WGS84 +units=m +no_defs +type=crs'\n",
    "polygon_reproj = polygon.to_crs(this_proj_str)"
   ]
  },
  {
   "cell_type": "code",
   "execution_count": null,
   "id": "ea9ca4e3-5e2a-4109-933f-4809a112ba36",
   "metadata": {},
   "outputs": [],
   "source": [
    "ax = polygon_reproj.plot(alpha=0.8, facecolor='None', edgecolor='black')\n",
    "cx.add_basemap(\n",
    "    ax, crs=polygon_reproj.crs.to_string(), source=cx.providers.CartoDB.Voyager\n",
    ")"
   ]
  },
  {
   "cell_type": "markdown",
   "id": "0440568a-2118-4183-87f0-18edc2fe25ba",
   "metadata": {},
   "source": [
    "Keep in mind that our rectangle was only defined through four points. This means that the edges will not get transformed themselves, but only the four vertices of the rectangle. In the reprojected image the true projections of the vertices might not be straight lines anymore. In our image, however, those lines will be straight by construction, since the edges are plotted in a way that they combine the vertices with straight lines."
   ]
  },
  {
   "cell_type": "markdown",
   "id": "986a1105-7ca7-4cb1-8786-1caa4e968d62",
   "metadata": {},
   "source": [
    "We can also manually compute the transformed vertices. For the upper left corner we get the new coordinates:"
   ]
  },
  {
   "cell_type": "code",
   "execution_count": null,
   "id": "e242b17d-e4df-4ccc-aae4-f51631a78ec3",
   "metadata": {},
   "outputs": [],
   "source": [
    "visual_tif.rio.transform() * (0,0)"
   ]
  },
  {
   "cell_type": "markdown",
   "id": "aa33fe6b-5e0d-48ef-ba1d-173ebfbb8d4c",
   "metadata": {},
   "source": [
    "The lower right corner is given by the following coordinates of the new CRS:"
   ]
  },
  {
   "cell_type": "code",
   "execution_count": null,
   "id": "35718b10-5628-4ba4-88c9-c78b21b9f4e9",
   "metadata": {},
   "outputs": [],
   "source": [
    "visual_tif.rio.transform() * (visual_tif.rio.width, visual_tif.rio.height)"
   ]
  },
  {
   "cell_type": "markdown",
   "id": "d222c554-a087-4f86-8161-533b5210cdd0",
   "metadata": {},
   "source": [
    "Alternatively, these values can also be obtained from `bounds` which returns values in the following sequence: left, bottom, right, top"
   ]
  },
  {
   "cell_type": "code",
   "execution_count": null,
   "id": "9b77ea59-3f77-48f2-a5f1-eddc4ce66267",
   "metadata": {},
   "outputs": [],
   "source": [
    "visual_tif.rio.bounds()"
   ]
  },
  {
   "cell_type": "markdown",
   "id": "ea1223c3-7043-438f-b41a-c30ac32fea93",
   "metadata": {},
   "source": [
    "Now that we have the vertice coordinates in terms of the CRS of the satellite image we can easily pick the respective subset of the satellite image by clipping."
   ]
  },
  {
   "cell_type": "code",
   "execution_count": null,
   "id": "1355d297-1f42-46f4-ac92-c60668bf78ac",
   "metadata": {},
   "outputs": [],
   "source": [
    "type(polygon_reproj)"
   ]
  },
  {
   "cell_type": "code",
   "execution_count": null,
   "id": "cd65974d-774a-47e9-869f-dd3ad73d8c7e",
   "metadata": {},
   "outputs": [],
   "source": [
    "polygon_reproj"
   ]
  },
  {
   "cell_type": "code",
   "execution_count": null,
   "id": "ae2db2ab-713b-4f45-a95e-2229c9ec5d08",
   "metadata": {},
   "outputs": [],
   "source": [
    "clipped = visual_tif.rio.clip(polygon_reproj.geometry)\n",
    "clipped.plot.imshow()\n",
    "plt.show()"
   ]
  },
  {
   "cell_type": "markdown",
   "id": "27470669-6a7f-4ef0-8f7e-5739c5dce1f7",
   "metadata": {},
   "source": [
    "As you can see, the image was clipped along the edges of the tilted rectangle that we obtained after reprojection. Hence, some of the pixels in the lower right corner do not contain values anymore, because they were outside of the clipping region.\n",
    "\n",
    "In general there are two alternative ways how one could translate a given rectangular region into a subset of a satellite image. First, we could be really precise and map the full rectangle including the edges and not only the vertices. This way, however, we would most likely again end up with a shape other than a non-tilted rectangle and hence would get unfilled pixels again. A second way would be to only map the upper left and lower right vertices of the rectangle and then create a rectangular box from those vertices in order to avoid any unfilled pixels."
   ]
  }
 ],
 "metadata": {
  "kernelspec": {
   "display_name": "Python 3 (ipykernel)",
   "language": "python",
   "name": "python3"
  },
  "language_info": {
   "codemirror_mode": {
    "name": "ipython",
    "version": 3
   },
   "file_extension": ".py",
   "mimetype": "text/x-python",
   "name": "python",
   "nbconvert_exporter": "python",
   "pygments_lexer": "ipython3",
   "version": "3.10.6"
  }
 },
 "nbformat": 4,
 "nbformat_minor": 5
}
