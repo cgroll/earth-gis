{
 "cells": [
  {
   "cell_type": "markdown",
   "id": "e63f782b-0cca-4760-a0de-3f974bbe868c",
   "metadata": {},
   "source": [
    "Spatial resolution measures how much real world area will get mapped into a single pixel of the satellite raster image. For example, if the resolution is 20 meters, then a 20 by 20 meter area will get reflected as only a single pixel. With such a resolution it is not possible to identify individual cars, and even buildings can be identified only if they are sufficiently large.\n",
    "\n",
    "Different satellite images come with different spatial resolution. In this notebook we want to compare some example datasets in order to get a better feeling about spatial resolutions."
   ]
  },
  {
   "cell_type": "code",
   "execution_count": null,
   "id": "fe7e7536-61d5-4030-a6c3-378c93840358",
   "metadata": {},
   "outputs": [],
   "source": [
    "import geemap\n",
    "import ee\n",
    "from egis.utils import (\n",
    "    vis_params_dict, extract_single_img\n",
    ")"
   ]
  },
  {
   "cell_type": "code",
   "execution_count": null,
   "id": "eb32a66d-4f1d-4932-bc6e-e65b9e3a25c6",
   "metadata": {},
   "outputs": [],
   "source": [
    "ee.Initialize()"
   ]
  },
  {
   "cell_type": "markdown",
   "id": "98dc3dd0-ff5b-4a5d-9be3-0a49d035c141",
   "metadata": {
    "tags": []
   },
   "source": [
    "### Select example area"
   ]
  },
  {
   "cell_type": "markdown",
   "id": "78b122ec-8730-4702-bfe0-a2b9dcc4a371",
   "metadata": {},
   "source": [
    "First, we define a region of interest (ROI) for our comparison. We pick the southern part of Manhattan in this example."
   ]
  },
  {
   "cell_type": "code",
   "execution_count": null,
   "id": "fee305c5-88e7-456d-9339-307622bc6674",
   "metadata": {},
   "outputs": [],
   "source": [
    "coord_list = [[-74.021956, 40.699491],\n",
    "              [-73.998517, 40.699491],\n",
    "              [-73.998517, 40.714391],\n",
    "              [-74.021956, 40.714391],\n",
    "              [-74.021956, 40.699491]]\n",
    "roi_clip_region = ee.Geometry.Polygon(coord_list)\n",
    "\n",
    "# compute center point\n",
    "roi_center_point = roi_clip_region.centroid()\n",
    "\n",
    "# extract coordinates for centering of maps\n",
    "roi_center_coords = roi_center_point.getInfo()['coordinates']\n",
    "roi_center_coords = [roi_center_coords[1], roi_center_coords[0]]"
   ]
  },
  {
   "cell_type": "markdown",
   "id": "1cbf8f8e-5f38-4579-b8b3-1561c9dc5ca2",
   "metadata": {},
   "source": [
    "### Google static map"
   ]
  },
  {
   "cell_type": "markdown",
   "id": "214011d8-afed-422b-83b2-eca5bb940b9d",
   "metadata": {},
   "source": [
    "The first dataset that we inspect are the satellite images available from Google maps. This is actually a pretty awesome dataset, because it has a lot of complicated cleaning and processing steps in the background, as it is a composition of multiple smaller images:\n",
    "\n",
    "- from several data providers\n",
    "- from several points in time\n",
    "- with different resolutions\n",
    "\n",
    "Overall, we get one large image that has very high resolution in many parts of the world (big cities). And it actually has another convenient property: the large image is composed in such a way that almost all regions of the world are visible without any clouds."
   ]
  },
  {
   "cell_type": "code",
   "execution_count": null,
   "id": "e89500b0-81a6-423a-932b-1dac5a100012",
   "metadata": {},
   "outputs": [],
   "source": [
    "google_map = geemap.Map(center=roi_center_coords, zoom=16)\n",
    "google_map.add_basemap('SATELLITE')\n",
    "google_map"
   ]
  },
  {
   "cell_type": "markdown",
   "id": "b5c6625b-2c85-479a-80c0-00786b5acc8d",
   "metadata": {},
   "source": [
    "### Sentinel 2"
   ]
  },
  {
   "cell_type": "markdown",
   "id": "9dc5d4fc-562e-4ba1-849e-45711e744d33",
   "metadata": {},
   "source": [
    "Our second example is an image of the Sentinel 2 mission. In comparison to the Google static map, there are multiple images for each point of interest from multiple periods of time. This comes with the advantage that one potentially could both select the region of interest and the point in time of the image. In this example I picked an arbitrary historic image without clouds."
   ]
  },
  {
   "cell_type": "code",
   "execution_count": null,
   "id": "8023ebc2-dd48-4ea0-b3de-17aabdc54c52",
   "metadata": {},
   "outputs": [],
   "source": [
    "sentinel_image = ee.Image('COPERNICUS/S2_SR_HARMONIZED/20221027T155341_20221027T155837_T18TWL')"
   ]
  },
  {
   "cell_type": "code",
   "execution_count": null,
   "id": "d303e167-f383-4bb4-a242-4de891764529",
   "metadata": {},
   "outputs": [],
   "source": [
    "vis_params = vis_params_dict(bands=['B4','B3','B2'],\n",
    "                                     min=0,\n",
    "                                     max=3000,\n",
    "                                     gamma=1.4)"
   ]
  },
  {
   "cell_type": "code",
   "execution_count": null,
   "id": "08a3150f-d0ce-475d-be2c-1ac50635cf8d",
   "metadata": {},
   "outputs": [],
   "source": [
    "sentinel_map = geemap.Map()\n",
    "sentinel_map.addLayer(sentinel_image, vis_params)\n",
    "sentinel_map.centerObject(roi_center_point, 16)\n",
    "sentinel_map"
   ]
  },
  {
   "cell_type": "markdown",
   "id": "4b32fccf-a5bb-4029-9628-97e2d8d9f18f",
   "metadata": {},
   "source": [
    "As we can see, the spatial resolution of the Sentinel 2 image is significantly worse than what we did get from the Google static map image."
   ]
  },
  {
   "cell_type": "markdown",
   "id": "84815ab4-1c42-4a4f-b8ac-d9df6c8eb963",
   "metadata": {},
   "source": [
    "### National Agriculture Imagery Program"
   ]
  },
  {
   "cell_type": "markdown",
   "id": "4662bf81-7955-4dcf-8867-75d85191cbb1",
   "metadata": {},
   "source": [
    "As a last example we pick an image from the [National Agriculture Imagery Program](https://developers.google.com/earth-engine/datasets/catalog/USDA_NAIP_DOQQ) in the US. This dataset also comes with a very good resolution and even snapshots over time. However, it does not span over the full globe."
   ]
  },
  {
   "cell_type": "code",
   "execution_count": null,
   "id": "0d60ea5e-d558-45ff-bd13-cf12586d5011",
   "metadata": {},
   "outputs": [],
   "source": [
    "naip_img = ee.Image('USDA/NAIP/DOQQ/m_4007424_ne_18_1_20170719')"
   ]
  },
  {
   "cell_type": "code",
   "execution_count": null,
   "id": "18f72230-3201-4918-972a-14e7344e7b2f",
   "metadata": {},
   "outputs": [],
   "source": [
    "vis_params_naip = vis_params_dict(bands=['R','G','B'], min=0.0, max=255.0, gamma=0.6) "
   ]
  },
  {
   "cell_type": "code",
   "execution_count": null,
   "id": "f116ec16-2891-47cc-b6bb-0d53a171bb93",
   "metadata": {},
   "outputs": [],
   "source": [
    "naip_map = geemap.Map()\n",
    "naip_map.addLayer(naip_img, vis_params_naip)\n",
    "naip_map.centerObject(roi_center_point, 16)\n",
    "naip_map"
   ]
  }
 ],
 "metadata": {
  "kernelspec": {
   "display_name": "Python 3 (ipykernel)",
   "language": "python",
   "name": "python3"
  },
  "language_info": {
   "codemirror_mode": {
    "name": "ipython",
    "version": 3
   },
   "file_extension": ".py",
   "mimetype": "text/x-python",
   "name": "python",
   "nbconvert_exporter": "python",
   "pygments_lexer": "ipython3",
   "version": "3.10.6"
  }
 },
 "nbformat": 4,
 "nbformat_minor": 5
}
