{
 "cells": [
  {
   "cell_type": "markdown",
   "id": "e0c60c93-6ea1-4cf1-b767-85c2a9be4627",
   "metadata": {},
   "source": [
    "Google satellite images might not seem too spectacular at first sight, but actually it is a masterpiece. It is not a single image, but a composition of smaller images:\n",
    "- from several data providers\n",
    "- from several points in time\n",
    "- with different resolutions\n",
    "\n",
    "Overall, we get one large image that has very high resolution in many parts of the world (big cities). And also with almost all clouds removed.\n",
    "\n",
    "Here, we want to compare the resolution in New York with the resolution of Sentinel 2."
   ]
  },
  {
   "cell_type": "code",
   "execution_count": null,
   "id": "fe7e7536-61d5-4030-a6c3-378c93840358",
   "metadata": {},
   "outputs": [],
   "source": [
    "import geemap\n",
    "import ee\n",
    "from egis.utils import (\n",
    "    vis_params_dict, extract_single_img\n",
    ")"
   ]
  },
  {
   "cell_type": "code",
   "execution_count": null,
   "id": "eb32a66d-4f1d-4932-bc6e-e65b9e3a25c6",
   "metadata": {},
   "outputs": [],
   "source": [
    "ee.Initialize()"
   ]
  },
  {
   "cell_type": "markdown",
   "id": "98dc3dd0-ff5b-4a5d-9be3-0a49d035c141",
   "metadata": {},
   "source": [
    "### Select interesting areas"
   ]
  },
  {
   "cell_type": "code",
   "execution_count": null,
   "id": "fee305c5-88e7-456d-9339-307622bc6674",
   "metadata": {},
   "outputs": [],
   "source": [
    "coord_list = [[-74.021956, 40.699491],\n",
    "              [-73.998517, 40.699491],\n",
    "              [-73.998517, 40.714391],\n",
    "              [-74.021956, 40.714391],\n",
    "              [-74.021956, 40.699491]]\n",
    "roi_clip_region = ee.Geometry.Polygon(coord_list)\n",
    "\n",
    "# compute center point\n",
    "roi_center_point = roi_clip_region.centroid()\n",
    "\n",
    "# extract coordinates for centering of maps\n",
    "roi_center_coords = roi_center_point.getInfo()['coordinates']\n",
    "roi_center_coords = [roi_center_coords[1], roi_center_coords[0]]"
   ]
  },
  {
   "cell_type": "code",
   "execution_count": null,
   "id": "e89500b0-81a6-423a-932b-1dac5a100012",
   "metadata": {},
   "outputs": [],
   "source": [
    "google_map = geemap.Map(center=roi_center_coords, zoom=16)\n",
    "google_map.add_basemap('SATELLITE')\n",
    "google_map"
   ]
  },
  {
   "cell_type": "markdown",
   "id": "b5c6625b-2c85-479a-80c0-00786b5acc8d",
   "metadata": {},
   "source": [
    "### Sentinel image"
   ]
  },
  {
   "cell_type": "code",
   "execution_count": null,
   "id": "e8731e4b-f770-4fda-9e60-4e4fb2698109",
   "metadata": {},
   "outputs": [],
   "source": [
    "sentinel_image = ee.Image('COPERNICUS/S2_SR_HARMONIZED/20221027T155341_20221027T155837_T18TWL')"
   ]
  },
  {
   "cell_type": "code",
   "execution_count": null,
   "id": "d303e167-f383-4bb4-a242-4de891764529",
   "metadata": {},
   "outputs": [],
   "source": [
    "vis_params = vis_params_dict(bands=['B4','B3','B2'],\n",
    "                                     min=0,\n",
    "                                     max=3000,\n",
    "                                     gamma=1.4)"
   ]
  },
  {
   "cell_type": "code",
   "execution_count": null,
   "id": "08a3150f-d0ce-475d-be2c-1ac50635cf8d",
   "metadata": {},
   "outputs": [],
   "source": [
    "sentinel_map = geemap.Map()\n",
    "sentinel_map.addLayer(sentinel_image, vis_params)\n",
    "sentinel_map.centerObject(roi_center_point, 16)\n",
    "sentinel_map"
   ]
  }
 ],
 "metadata": {
  "kernelspec": {
   "display_name": "Python 3 (ipykernel)",
   "language": "python",
   "name": "python3"
  },
  "language_info": {
   "codemirror_mode": {
    "name": "ipython",
    "version": 3
   },
   "file_extension": ".py",
   "mimetype": "text/x-python",
   "name": "python",
   "nbconvert_exporter": "python",
   "pygments_lexer": "ipython3",
   "version": "3.10.6"
  }
 },
 "nbformat": 4,
 "nbformat_minor": 5
}
